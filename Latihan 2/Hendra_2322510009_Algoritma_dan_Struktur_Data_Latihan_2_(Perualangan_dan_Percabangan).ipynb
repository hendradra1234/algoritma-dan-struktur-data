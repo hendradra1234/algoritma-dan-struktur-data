{
  "nbformat": 4,
  "nbformat_minor": 0,
  "metadata": {
    "colab": {
      "provenance": [],
      "authorship_tag": "ABX9TyO0FSVcVk+jwem9KIbAKb0O",
      "include_colab_link": true
    },
    "kernelspec": {
      "name": "python3",
      "display_name": "Python 3"
    },
    "language_info": {
      "name": "python"
    }
  },
  "cells": [
    {
      "cell_type": "markdown",
      "metadata": {
        "id": "view-in-github",
        "colab_type": "text"
      },
      "source": [
        "<a href=\"https://colab.research.google.com/github/hendradra1234/algoritma-dan-struktur-data/blob/main/Hendra_2322510009_Algoritma_dan_Struktur_Data_Latihan_2_(Perualangan_dan_Percabangan).ipynb\" target=\"_parent\"><img src=\"https://colab.research.google.com/assets/colab-badge.svg\" alt=\"Open In Colab\"/></a>"
      ]
    },
    {
      "cell_type": "markdown",
      "source": [
        "**Percabangan dan Perulangan**"
      ],
      "metadata": {
        "id": "X3Vaqydi3ZXy"
      }
    },
    {
      "cell_type": "code",
      "execution_count": null,
      "metadata": {
        "colab": {
          "base_uri": "https://localhost:8080/"
        },
        "id": "wzVNkrxr3GlC",
        "outputId": "dd0a6fc1-3011-45fc-9328-8b481bed8aba"
      },
      "outputs": [
        {
          "output_type": "stream",
          "name": "stdout",
          "text": [
            "0 . ISB ATMA LUHUR (used range)\n",
            "1 . ISB ATMA LUHUR (used range)\n",
            "2 . ISB ATMA LUHUR (used range)\n",
            "3 . ISB ATMA LUHUR (used range)\n",
            "4 . ISB ATMA LUHUR (used range)\n"
          ]
        }
      ],
      "source": [
        "for i in range(5):\n",
        "  print(i, '. ISB ATMA LUHUR')"
      ]
    },
    {
      "cell_type": "markdown",
      "source": [
        "**Percabangan Nested**"
      ],
      "metadata": {
        "id": "8cYUvNCQ8JBs"
      }
    },
    {
      "cell_type": "code",
      "source": [
        "for i in range(5):\n",
        "  for j in range(1, 6):\n",
        "    print(j, end=' ')\n",
        "  print()"
      ],
      "metadata": {
        "colab": {
          "base_uri": "https://localhost:8080/"
        },
        "id": "d1j6v5sF5CUi",
        "outputId": "a6a588c9-658b-4519-8f42-c28320f6f3de"
      },
      "execution_count": null,
      "outputs": [
        {
          "output_type": "stream",
          "name": "stdout",
          "text": [
            "1 2 3 4 5 \n",
            "1 2 3 4 5 \n",
            "1 2 3 4 5 \n",
            "1 2 3 4 5 \n",
            "1 2 3 4 5 \n"
          ]
        }
      ]
    },
    {
      "cell_type": "markdown",
      "source": [
        "**Statement Break**"
      ],
      "metadata": {
        "id": "Eq8Lw4YL8N05"
      }
    },
    {
      "cell_type": "code",
      "source": [
        "for i in range(1, 11):\n",
        "  print(i)\n",
        "\n",
        "  if i == 5:\n",
        "    print(f'break operation at iteration i = {i}')\n",
        "    break\n",
        "print('Terminated')"
      ],
      "metadata": {
        "colab": {
          "base_uri": "https://localhost:8080/"
        },
        "id": "S4XkKf6f8OLL",
        "outputId": "c8426be2-b1ae-454f-8f5c-4cac9f312328"
      },
      "execution_count": null,
      "outputs": [
        {
          "output_type": "stream",
          "name": "stdout",
          "text": [
            "1\n",
            "2\n",
            "3\n",
            "4\n",
            "5\n",
            "break operation at iteration i = 5\n",
            "Terminated\n"
          ]
        }
      ]
    },
    {
      "cell_type": "markdown",
      "source": [
        "**Perulangan While**"
      ],
      "metadata": {
        "id": "wfeOPTJUEwjD"
      }
    },
    {
      "cell_type": "code",
      "source": [
        "i = 1\n",
        "\n",
        "while i <= 5:\n",
        "  print('ISB ATMA LUHUR')\n",
        "  i+=1\n",
        "\n",
        "print('selesai')"
      ],
      "metadata": {
        "colab": {
          "base_uri": "https://localhost:8080/"
        },
        "id": "V-bhbC93EwPY",
        "outputId": "893c677c-3a54-4f2f-f919-70dff642bdac"
      },
      "execution_count": null,
      "outputs": [
        {
          "output_type": "stream",
          "name": "stdout",
          "text": [
            "ISB ATMA LUHUR\n",
            "ISB ATMA LUHUR\n",
            "ISB ATMA LUHUR\n",
            "ISB ATMA LUHUR\n",
            "ISB ATMA LUHUR\n",
            "selesai\n"
          ]
        }
      ]
    }
  ]
}