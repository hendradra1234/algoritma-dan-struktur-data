{
  "nbformat": 4,
  "nbformat_minor": 0,
  "metadata": {
    "colab": {
      "provenance": [],
      "authorship_tag": "ABX9TyO4h7OhogPgaFEhGFF/Oy4C",
      "include_colab_link": true
    },
    "kernelspec": {
      "name": "python3",
      "display_name": "Python 3"
    },
    "language_info": {
      "name": "python"
    }
  },
  "cells": [
    {
      "cell_type": "markdown",
      "metadata": {
        "id": "view-in-github",
        "colab_type": "text"
      },
      "source": [
        "<a href=\"https://colab.research.google.com/github/hendradra1234/algoritma-dan-struktur-data/blob/main/hendra_2322510009_Algoritma_dan_Struktur_Data_(Latihan).ipynb\" target=\"_parent\"><img src=\"https://colab.research.google.com/assets/colab-badge.svg\" alt=\"Open In Colab\"/></a>"
      ]
    },
    {
      "cell_type": "markdown",
      "source": [
        "susunlah pseduocode untuk menginput 1 buah nilai, kemudian tampilkan kata \"Algo\" sebanyak nilai yang di input:\n",
        "\n",
        "contoh:\n",
        "1. Algo\n",
        "2. Algo\n",
        "3. Algo\n",
        "\n",
        "**PSEUDOCODE**\n",
        ">     INPUT \"masukkan nilai perualangan\", r\n",
        "    i = 1\n",
        "    WHILE i <= r\n",
        "      OUTPUT \"{i + 1}. Algo\"\n",
        "      i += 1\n"
      ],
      "metadata": {
        "id": "5X2Ft4WVGlUJ"
      }
    },
    {
      "cell_type": "code",
      "source": [
        "r = int(input('Masukkan nilai perualangan: '))\n",
        "i = 1\n",
        "while i <= r:\n",
        "  print(f\"{i}. Algo\")\n",
        "  i += 1"
      ],
      "metadata": {
        "colab": {
          "base_uri": "https://localhost:8080/"
        },
        "id": "F2-fWYfbGwDt",
        "outputId": "c7e11769-0e5c-4744-a140-2596bdd41772"
      },
      "execution_count": null,
      "outputs": [
        {
          "output_type": "stream",
          "name": "stdout",
          "text": [
            "Masukkan nilai perualangan: 5\n",
            "1. Algo\n",
            "2. Algo\n",
            "3. Algo\n",
            "4. Algo\n",
            "5. Algo\n"
          ]
        }
      ]
    },
    {
      "cell_type": "markdown",
      "source": [
        "susunlah pseduocode untuk menginput 4 buah bilangan kemudian tampilkan yang terbesar, gunakan pengulangan.\n",
        "\n",
        "**PSEUDOCODE**\n",
        "\n",
        ">     INPUT \"Masukkan nilai 1\", r1\n",
        "    INPUT \"Masukkan nilai 2\", r2\n",
        "    INPUT \"Masukkan nilai 3\", r3\n",
        "    INPUT \"Masukkan nilai 4\", r4\n",
        "    arr = [r1, r2, 33, r4]\n",
        "    sort = arr[0]\n",
        "    for i in arr\n",
        "      if i > sort:\n",
        "        sort = 1\n",
        "    OUTPUT 'Biggest Number on this list: ', sort"
      ],
      "metadata": {
        "id": "7TmrQN2BHK_4"
      }
    },
    {
      "cell_type": "code",
      "source": [
        "r1 = int(input('Masukkan nilai 1: '))\n",
        "r2 = int(input('Masukkan nilai 2: '))\n",
        "r3 = int(input('Masukkan nilai 3: '))\n",
        "r4 = int(input('Masukkan nilai 4: '))\n",
        "\n",
        "arr = [r1, r2, r3, r4]\n",
        "\n",
        "sort = arr[0]\n",
        "for i in arr:\n",
        "  if i>sort:\n",
        "    sort = i\n",
        "\n",
        "print('Biggest Number on this list: ', sort)"
      ],
      "metadata": {
        "colab": {
          "base_uri": "https://localhost:8080/"
        },
        "id": "sW7_Ko04Hyx2",
        "outputId": "f3c5e683-84c2-4981-8e1f-34b11e101ddb"
      },
      "execution_count": null,
      "outputs": [
        {
          "output_type": "stream",
          "name": "stdout",
          "text": [
            "Masukkan nilai 1: 10\n",
            "Masukkan nilai 2: 30\n",
            "Masukkan nilai 3: 50\n",
            "Masukkan nilai 4: 70\n",
            "Biggest Number on this list:  70\n"
          ]
        }
      ]
    },
    {
      "cell_type": "markdown",
      "source": [
        "susunlah pseduocode untuk menampilkan\n",
        "> 11111\n",
        "\n",
        "> 22222\n",
        "\n",
        "> 33333\n",
        "\n",
        "> 44444\n",
        "\n",
        "**PSEUDOCODE**\n",
        "\n",
        ">     for i = 0 TO 5\n",
        "        for k = 1 TO 5\n",
        "       OUTPUT i, end= ' '\n",
        "    OUTPUT ''"
      ],
      "metadata": {
        "id": "ZYzKrRDRHzNt"
      }
    },
    {
      "cell_type": "code",
      "execution_count": null,
      "metadata": {
        "colab": {
          "base_uri": "https://localhost:8080/"
        },
        "id": "-hL0eQBqGWmX",
        "outputId": "c6fcf53a-c9f6-40c9-eb47-afea9c8a8e53"
      },
      "outputs": [
        {
          "output_type": "stream",
          "name": "stdout",
          "text": [
            "1 1 1 1 \n",
            "2 2 2 2 \n",
            "3 3 3 3 \n",
            "4 4 4 4 \n"
          ]
        }
      ],
      "source": [
        "for i in range(1, 5):\n",
        "  for k in range(1, 5):\n",
        "    print(i, end= \" \")\n",
        "  print()"
      ]
    },
    {
      "cell_type": "markdown",
      "source": [
        "susunlah pseduocode untuk menampilkan:\n",
        "> 1\n",
        "\n",
        "> 12\n",
        "\n",
        "> 123\n",
        "\n",
        "> 1234\n",
        "\n",
        "**PSEUDOCODE**\n",
        "\n",
        ">     for i = 1 TO 5\n",
        "      for j = 1 TO i\n",
        "        OUTPUT j, end = \" \"\n",
        "      OUTPUT i\n",
        "  "
      ],
      "metadata": {
        "id": "dgmaKa1xIJdK"
      }
    },
    {
      "cell_type": "code",
      "source": [
        "for i in range(1, 5):\n",
        "  for j in range(1, i):\n",
        "      print(j, end = \" \")\n",
        "  print(i)"
      ],
      "metadata": {
        "colab": {
          "base_uri": "https://localhost:8080/"
        },
        "id": "0EUa6bL4IVlQ",
        "outputId": "b7aaed0d-d76f-4257-b263-f34babd2b8a2"
      },
      "execution_count": null,
      "outputs": [
        {
          "output_type": "stream",
          "name": "stdout",
          "text": [
            "1\n",
            "1 2\n",
            "1 2 3\n",
            "1 2 3 4\n"
          ]
        }
      ]
    }
  ]
}