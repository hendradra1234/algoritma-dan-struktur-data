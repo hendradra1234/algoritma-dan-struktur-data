{
  "nbformat": 4,
  "nbformat_minor": 0,
  "metadata": {
    "colab": {
      "provenance": [],
      "authorship_tag": "ABX9TyN0DlclBPtlWDb1LhBaMZv3",
      "include_colab_link": true
    },
    "kernelspec": {
      "name": "python3",
      "display_name": "Python 3"
    },
    "language_info": {
      "name": "python"
    }
  },
  "cells": [
    {
      "cell_type": "markdown",
      "metadata": {
        "id": "view-in-github",
        "colab_type": "text"
      },
      "source": [
        "<a href=\"https://colab.research.google.com/github/hendradra1234/algoritma-dan-struktur-data/blob/main/Hendra_2322510009_AlgoritmaDanStrukturData_Latihan1.ipynb\" target=\"_parent\"><img src=\"https://colab.research.google.com/assets/colab-badge.svg\" alt=\"Open In Colab\"/></a>"
      ]
    },
    {
      "cell_type": "markdown",
      "source": [
        "**Soal 1 (fix Issue)**\n",
        "> c = a + b\n",
        "\n",
        "> a = 5\n",
        "\n",
        "> b = 4\n",
        "\n",
        "> print c"
      ],
      "metadata": {
        "id": "wI6zAI4sjmpI"
      }
    },
    {
      "cell_type": "code",
      "source": [
        "# Soal 1 fix code\n",
        "\n",
        "a = 5\n",
        "b = 4\n",
        "c = a + b\n",
        "print(c)"
      ],
      "metadata": {
        "colab": {
          "base_uri": "https://localhost:8080/"
        },
        "id": "z9KU70fOm-ov",
        "outputId": "035be0ab-c30b-4f90-8dca-3e4d77175f84"
      },
      "execution_count": null,
      "outputs": [
        {
          "output_type": "stream",
          "name": "stdout",
          "text": [
            "9\n"
          ]
        }
      ]
    },
    {
      "cell_type": "markdown",
      "source": [
        "**Soal 2 (fix Issue)**\n",
        "> x = 10\n",
        "\n",
        "> c = c + x\n",
        "\n",
        "> c = x\n",
        "\n",
        "print x"
      ],
      "metadata": {
        "id": "I4_Mv71tkae_"
      }
    },
    {
      "cell_type": "code",
      "execution_count": null,
      "metadata": {
        "colab": {
          "base_uri": "https://localhost:8080/"
        },
        "id": "3lmpOcIzX8D6",
        "outputId": "6e6e9a99-fc44-42f3-a2fc-5b05f406d8ca"
      },
      "outputs": [
        {
          "output_type": "stream",
          "name": "stdout",
          "text": [
            "20\n"
          ]
        }
      ],
      "source": [
        "# Soal 2 fix code\n",
        "x = 10\n",
        "c = x\n",
        "c = c + x\n",
        "print(c)"
      ]
    },
    {
      "cell_type": "code",
      "source": [],
      "metadata": {
        "id": "klcxVWOZu-5k"
      },
      "execution_count": null,
      "outputs": []
    },
    {
      "cell_type": "markdown",
      "source": [
        "**Soal 3 (fix Issue)**\n",
        "\n",
        "> p = 20\n",
        "\n",
        "> s = s + l\n",
        "\n",
        "> l = 5\n",
        "\n",
        "> s = p * 2\n",
        "\n",
        "> print s"
      ],
      "metadata": {
        "id": "4Kxqd2CmnFIP"
      }
    },
    {
      "cell_type": "code",
      "source": [
        "# Soal 3 fix code\n",
        "p = 20\n",
        "l = 5\n",
        "s=p*2\n",
        "s = s+l\n",
        "print(s)"
      ],
      "metadata": {
        "colab": {
          "base_uri": "https://localhost:8080/"
        },
        "id": "r3LIVGZFnEi6",
        "outputId": "0dc92877-59e5-48bf-cf02-a6595a8a78a0"
      },
      "execution_count": null,
      "outputs": [
        {
          "output_type": "stream",
          "name": "stdout",
          "text": [
            "45\n"
          ]
        }
      ]
    },
    {
      "cell_type": "markdown",
      "source": [
        "**Soal 4 (fix Issue)**\n",
        "> k = 15\n",
        "\n",
        "> m = m + m\n",
        "\n",
        "> m = k * l\n",
        "\n",
        "> l = k\n",
        "\n",
        "> print m"
      ],
      "metadata": {
        "id": "sYjTBrMinIBY"
      }
    },
    {
      "cell_type": "code",
      "source": [
        "# Soal 4 fix code\n",
        "k = 15\n",
        "l = k\n",
        "m = k * l\n",
        "m = m + m\n",
        "\n",
        "print(m)"
      ],
      "metadata": {
        "colab": {
          "base_uri": "https://localhost:8080/"
        },
        "id": "8RKhjg1jnIKZ",
        "outputId": "539a1e23-be45-408f-bbb5-e8861922127f"
      },
      "execution_count": null,
      "outputs": [
        {
          "output_type": "stream",
          "name": "stdout",
          "text": [
            "450\n"
          ]
        }
      ]
    },
    {
      "cell_type": "markdown",
      "source": [
        "**I/O Operation Exercise**"
      ],
      "metadata": {
        "id": "Hxj_xILJwCzN"
      }
    },
    {
      "cell_type": "code",
      "source": [
        "nama_anda = input('Masukkan Nama: ')\n",
        "nama_dia = input('masukkan si dia: ')\n",
        "\n",
        "print(\"nama anda: \", nama_anda)\n",
        "print(\"Nama dia: \",nama_dia)"
      ],
      "metadata": {
        "colab": {
          "base_uri": "https://localhost:8080/"
        },
        "id": "Ymb6ouVYvFGx",
        "outputId": "00365799-4737-4189-a26f-adcbd6c261db"
      },
      "execution_count": null,
      "outputs": [
        {
          "output_type": "stream",
          "name": "stdout",
          "text": [
            "Masukkan Nama: test\n",
            "masukkan si dia: ssss\n",
            "nama anda:  test\n",
            "Nama dia:  ssss\n"
          ]
        }
      ]
    },
    {
      "cell_type": "markdown",
      "source": [
        "Operator Logika\n",
        "\n",
        "> == | Sama Dengan\n",
        "\n",
        "> != | Tidak sama Dengan\n",
        "\n",
        "> \\> | Lebih dari\n",
        "\n",
        "> < | Kurang dari\n",
        "\n",
        "> \\>= | Lebih dari sama dengan\n",
        "\n",
        "> <= | Kurang dari sama dengan\n"
      ],
      "metadata": {
        "id": "0wfuL8ju0hvy"
      }
    },
    {
      "cell_type": "code",
      "source": [
        "input_1 = input('input level (0 - 10)')\n",
        "input_2 = input('input level (0 - 10): ')\n",
        "\n",
        "if (int(input_1) <= 0) or (int(input_1) > 10):\n",
        "  print('Input 1 out of bound')\n",
        "elif (int(input_2) <= 0) or (int(input_2) > 10):\n",
        "  print('Input 2 out of bound')\n",
        "else:\n",
        "  if input_1 == input_2:\n",
        "    print('Input sama', input_1, input_2)\n",
        "  else:\n",
        "    print('Input beda', input_1, input_2)"
      ],
      "metadata": {
        "colab": {
          "base_uri": "https://localhost:8080/"
        },
        "id": "bWYvwpbS1KjJ",
        "outputId": "0bf1ce1c-4b18-4e38-8000-2bec1f442346"
      },
      "execution_count": null,
      "outputs": [
        {
          "output_type": "stream",
          "name": "stdout",
          "text": [
            "input level (0 - 10)2\n",
            "input level (0 - 10): 2\n",
            "Input sama 2 2\n"
          ]
        }
      ]
    },
    {
      "cell_type": "markdown",
      "source": [
        "**Perhitungan rumus kubus**\n",
        "\n",
        "> R x R x R"
      ],
      "metadata": {
        "id": "XT8J69v84zuN"
      }
    },
    {
      "cell_type": "code",
      "source": [
        "print('Kalkulasi volume kubus')\n",
        "r = int(input('Input rusuk: '))\n",
        "\n",
        "hasil = r * r * r\n",
        "print('Hasil: ', hasil)"
      ],
      "metadata": {
        "colab": {
          "base_uri": "https://localhost:8080/"
        },
        "id": "AlAW31MJ464Y",
        "outputId": "f38ef2d1-a8fa-4e1e-9b74-b6a7fb3a7940"
      },
      "execution_count": null,
      "outputs": [
        {
          "output_type": "stream",
          "name": "stdout",
          "text": [
            "Kalkulasi volume kubus\n",
            "Input rusuk: 20\n",
            "Hasil:  8000\n"
          ]
        }
      ]
    },
    {
      "cell_type": "code",
      "source": [
        "print('Kalkulasi volume Balok')\n",
        "\n",
        "p = int(input('Input Panjang: '))\n",
        "l = int(input('Input Lebar: '))\n",
        "t = int(input('Input tinggi: '))\n",
        "\n",
        "hasil = p * l * t\n",
        "\n",
        "print('Hasil: ', hasil)"
      ],
      "metadata": {
        "colab": {
          "base_uri": "https://localhost:8080/"
        },
        "id": "il0eFMKP6NXT",
        "outputId": "2dd85d66-4382-4dc0-9242-21ddd41ea344"
      },
      "execution_count": null,
      "outputs": [
        {
          "output_type": "stream",
          "name": "stdout",
          "text": [
            "Kalkulasi volume Balok\n",
            "Input Panjang: 10\n",
            "Input Lebar: 20\n",
            "Input tinggi: 30\n",
            "Hasil:  6000\n"
          ]
        }
      ]
    },
    {
      "cell_type": "code",
      "source": [
        "print('Kalkulasi luas permukaan Balok')\n",
        "\n",
        "p = int(input('Input Panjang: '))\n",
        "l = int(input('Input Lebar: '))\n",
        "t = int(input('Input tinggi: '))\n",
        "\n",
        "hasil = 2 * (p*l + p*t + l*t)\n",
        "print('Hasil: ', hasil)"
      ],
      "metadata": {
        "colab": {
          "base_uri": "https://localhost:8080/"
        },
        "id": "e7zeuHz-7M5A",
        "outputId": "5f8e26e9-028a-4d4a-990b-a34c7a06a12e"
      },
      "execution_count": null,
      "outputs": [
        {
          "output_type": "stream",
          "name": "stdout",
          "text": [
            "Kalkulasi luas Balok\n",
            "Input Panjang: 10\n",
            "Input Lebar: 10\n",
            "Input tinggi: 10\n",
            "Hasil:  600\n"
          ]
        }
      ]
    },
    {
      "cell_type": "code",
      "source": [
        "print('Kalkulasi luas permukaan Prisma Segitiga')\n",
        "sisi_1 = int(input('Input Sisi Segitiga-1: '))\n",
        "sisi_2 = int(input('Input Sisi Segitiga-2: '))\n",
        "sisi_3 = int(input('Input Sisi Segitiga-3: '))\n",
        "t = int(input('Input Tinggi segitiga: '))\n",
        "T = int(input('Input Tinggi Prisma: '))\n",
        "\n",
        "hasil = a * t + T * (sisi_1 + sisi_2 + sisi_3)\n",
        "print('hasil Luas Permukaan: ', hasil)\n",
        "\n",
        "hasilVolume = (0.5 * a * t) * T1\n",
        "print('hasil Volume: ', hasilVolume)"
      ],
      "metadata": {
        "colab": {
          "base_uri": "https://localhost:8080/"
        },
        "id": "9RGaE_xb8B1t",
        "outputId": "ec378743-68f8-43cd-ee25-439c7e9125a0"
      },
      "execution_count": null,
      "outputs": [
        {
          "output_type": "stream",
          "name": "stdout",
          "text": [
            "Kalkulasi luas permukaan Prisma Segitiga\n",
            "Input Sisi Segitiga-1: 10\n",
            "Input Sisi Segitiga-2: 10\n",
            "Input Sisi Segitiga-3: 10\n",
            "Input Tinggi segitiga: 9\n",
            "Input Tinggi Prisma: 10\n",
            "hasil Luas Permukaan:  318\n",
            "hasil Volume:  90.0\n"
          ]
        }
      ]
    }
  ]
}